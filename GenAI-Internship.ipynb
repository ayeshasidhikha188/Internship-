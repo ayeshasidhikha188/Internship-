{
 "cells": [
  {
   "cell_type": "code",
   "execution_count": 1,
   "id": "1231e626",
   "metadata": {},
   "outputs": [],
   "source": [
    "import pandas as pd"
   ]
  },
  {
   "cell_type": "code",
   "execution_count": 23,
   "id": "df56f976",
   "metadata": {},
   "outputs": [],
   "source": [
    "df= pd.read_csv(r\"C:\\Users\\mdimr\\Downloads\\movie_dataintern\\ratings.csv\")"
   ]
  },
  {
   "cell_type": "code",
   "execution_count": 24,
   "id": "e5dccbf6",
   "metadata": {},
   "outputs": [],
   "source": [
    "df1=pd.read_csv(r\"C:\\Users\\mdimr\\Downloads\\movie_dataintern\\movies.csv\")"
   ]
  },
  {
   "cell_type": "code",
   "execution_count": 25,
   "id": "3ab9be0a",
   "metadata": {},
   "outputs": [],
   "source": [
    "df2=pd.read_csv(r\"C:\\Users\\mdimr\\Downloads\\movie_dataintern\\tags.csv\")"
   ]
  },
  {
   "cell_type": "code",
   "execution_count": 26,
   "id": "e69dc0e2",
   "metadata": {},
   "outputs": [],
   "source": [
    "df3=pd.read_csv(r\"C:\\Users\\mdimr\\Downloads\\movie_dataintern\\links.csv\")"
   ]
  },
  {
   "cell_type": "code",
   "execution_count": 28,
   "id": "5672b92a",
   "metadata": {},
   "outputs": [
    {
     "data": {
      "text/plain": [
       "(9742, 3)"
      ]
     },
     "execution_count": 28,
     "metadata": {},
     "output_type": "execute_result"
    }
   ],
   "source": [
    "df1.shape"
   ]
  },
  {
   "cell_type": "code",
   "execution_count": 29,
   "id": "a2b7d363",
   "metadata": {},
   "outputs": [
    {
     "data": {
      "text/plain": [
       "(100836, 4)"
      ]
     },
     "execution_count": 29,
     "metadata": {},
     "output_type": "execute_result"
    }
   ],
   "source": [
    "df.shape"
   ]
  },
  {
   "cell_type": "code",
   "execution_count": 30,
   "id": "f02815cf",
   "metadata": {},
   "outputs": [
    {
     "data": {
      "text/plain": [
       "610"
      ]
     },
     "execution_count": 30,
     "metadata": {},
     "output_type": "execute_result"
    }
   ],
   "source": [
    "unique_user=df['userId'].unique()\n",
    "unique=len(unique_user)\n",
    "unique"
   ]
  },
  {
   "cell_type": "code",
   "execution_count": 31,
   "id": "6265a361",
   "metadata": {},
   "outputs": [
    {
     "data": {
      "text/html": [
       "<div>\n",
       "<style scoped>\n",
       "    .dataframe tbody tr th:only-of-type {\n",
       "        vertical-align: middle;\n",
       "    }\n",
       "\n",
       "    .dataframe tbody tr th {\n",
       "        vertical-align: top;\n",
       "    }\n",
       "\n",
       "    .dataframe thead th {\n",
       "        text-align: right;\n",
       "    }\n",
       "</style>\n",
       "<table border=\"1\" class=\"dataframe\">\n",
       "  <thead>\n",
       "    <tr style=\"text-align: right;\">\n",
       "      <th></th>\n",
       "      <th>userId</th>\n",
       "      <th>movieId</th>\n",
       "      <th>rating</th>\n",
       "      <th>timestamp</th>\n",
       "      <th>title</th>\n",
       "      <th>genres</th>\n",
       "    </tr>\n",
       "  </thead>\n",
       "  <tbody>\n",
       "    <tr>\n",
       "      <th>0</th>\n",
       "      <td>1</td>\n",
       "      <td>1</td>\n",
       "      <td>4.0</td>\n",
       "      <td>964982703</td>\n",
       "      <td>Toy Story (1995)</td>\n",
       "      <td>Adventure|Animation|Children|Comedy|Fantasy</td>\n",
       "    </tr>\n",
       "    <tr>\n",
       "      <th>1</th>\n",
       "      <td>5</td>\n",
       "      <td>1</td>\n",
       "      <td>4.0</td>\n",
       "      <td>847434962</td>\n",
       "      <td>Toy Story (1995)</td>\n",
       "      <td>Adventure|Animation|Children|Comedy|Fantasy</td>\n",
       "    </tr>\n",
       "    <tr>\n",
       "      <th>2</th>\n",
       "      <td>7</td>\n",
       "      <td>1</td>\n",
       "      <td>4.5</td>\n",
       "      <td>1106635946</td>\n",
       "      <td>Toy Story (1995)</td>\n",
       "      <td>Adventure|Animation|Children|Comedy|Fantasy</td>\n",
       "    </tr>\n",
       "    <tr>\n",
       "      <th>3</th>\n",
       "      <td>15</td>\n",
       "      <td>1</td>\n",
       "      <td>2.5</td>\n",
       "      <td>1510577970</td>\n",
       "      <td>Toy Story (1995)</td>\n",
       "      <td>Adventure|Animation|Children|Comedy|Fantasy</td>\n",
       "    </tr>\n",
       "    <tr>\n",
       "      <th>4</th>\n",
       "      <td>17</td>\n",
       "      <td>1</td>\n",
       "      <td>4.5</td>\n",
       "      <td>1305696483</td>\n",
       "      <td>Toy Story (1995)</td>\n",
       "      <td>Adventure|Animation|Children|Comedy|Fantasy</td>\n",
       "    </tr>\n",
       "    <tr>\n",
       "      <th>...</th>\n",
       "      <td>...</td>\n",
       "      <td>...</td>\n",
       "      <td>...</td>\n",
       "      <td>...</td>\n",
       "      <td>...</td>\n",
       "      <td>...</td>\n",
       "    </tr>\n",
       "    <tr>\n",
       "      <th>100831</th>\n",
       "      <td>610</td>\n",
       "      <td>160341</td>\n",
       "      <td>2.5</td>\n",
       "      <td>1479545749</td>\n",
       "      <td>Bloodmoon (1997)</td>\n",
       "      <td>Action|Thriller</td>\n",
       "    </tr>\n",
       "    <tr>\n",
       "      <th>100832</th>\n",
       "      <td>610</td>\n",
       "      <td>160527</td>\n",
       "      <td>4.5</td>\n",
       "      <td>1479544998</td>\n",
       "      <td>Sympathy for the Underdog (1971)</td>\n",
       "      <td>Action|Crime|Drama</td>\n",
       "    </tr>\n",
       "    <tr>\n",
       "      <th>100833</th>\n",
       "      <td>610</td>\n",
       "      <td>160836</td>\n",
       "      <td>3.0</td>\n",
       "      <td>1493844794</td>\n",
       "      <td>Hazard (2005)</td>\n",
       "      <td>Action|Drama|Thriller</td>\n",
       "    </tr>\n",
       "    <tr>\n",
       "      <th>100834</th>\n",
       "      <td>610</td>\n",
       "      <td>163937</td>\n",
       "      <td>3.5</td>\n",
       "      <td>1493848789</td>\n",
       "      <td>Blair Witch (2016)</td>\n",
       "      <td>Horror|Thriller</td>\n",
       "    </tr>\n",
       "    <tr>\n",
       "      <th>100835</th>\n",
       "      <td>610</td>\n",
       "      <td>163981</td>\n",
       "      <td>3.5</td>\n",
       "      <td>1493850155</td>\n",
       "      <td>31 (2016)</td>\n",
       "      <td>Horror</td>\n",
       "    </tr>\n",
       "  </tbody>\n",
       "</table>\n",
       "<p>100836 rows × 6 columns</p>\n",
       "</div>"
      ],
      "text/plain": [
       "        userId  movieId  rating   timestamp                             title  \\\n",
       "0            1        1     4.0   964982703                  Toy Story (1995)   \n",
       "1            5        1     4.0   847434962                  Toy Story (1995)   \n",
       "2            7        1     4.5  1106635946                  Toy Story (1995)   \n",
       "3           15        1     2.5  1510577970                  Toy Story (1995)   \n",
       "4           17        1     4.5  1305696483                  Toy Story (1995)   \n",
       "...        ...      ...     ...         ...                               ...   \n",
       "100831     610   160341     2.5  1479545749                  Bloodmoon (1997)   \n",
       "100832     610   160527     4.5  1479544998  Sympathy for the Underdog (1971)   \n",
       "100833     610   160836     3.0  1493844794                     Hazard (2005)   \n",
       "100834     610   163937     3.5  1493848789                Blair Witch (2016)   \n",
       "100835     610   163981     3.5  1493850155                         31 (2016)   \n",
       "\n",
       "                                             genres  \n",
       "0       Adventure|Animation|Children|Comedy|Fantasy  \n",
       "1       Adventure|Animation|Children|Comedy|Fantasy  \n",
       "2       Adventure|Animation|Children|Comedy|Fantasy  \n",
       "3       Adventure|Animation|Children|Comedy|Fantasy  \n",
       "4       Adventure|Animation|Children|Comedy|Fantasy  \n",
       "...                                             ...  \n",
       "100831                              Action|Thriller  \n",
       "100832                           Action|Crime|Drama  \n",
       "100833                        Action|Drama|Thriller  \n",
       "100834                              Horror|Thriller  \n",
       "100835                                       Horror  \n",
       "\n",
       "[100836 rows x 6 columns]"
      ]
     },
     "execution_count": 31,
     "metadata": {},
     "output_type": "execute_result"
    }
   ],
   "source": [
    "merge_df=pd.merge(df,df1, on='movieId',how='inner')\n",
    "merge_df"
   ]
  },
  {
   "cell_type": "code",
   "execution_count": 33,
   "id": "ac560ecf",
   "metadata": {},
   "outputs": [],
   "source": [
    "ratings_count=df.groupby('movieId')['rating'].count().reset_index(name='count')"
   ]
  },
  {
   "cell_type": "code",
   "execution_count": 35,
   "id": "d04186ed",
   "metadata": {},
   "outputs": [],
   "source": [
    "mix_rated_movie=ratings_count[ratings_count['count']==ratings_count['count'].max()]"
   ]
  },
  {
   "cell_type": "code",
   "execution_count": 36,
   "id": "46468a11",
   "metadata": {},
   "outputs": [
    {
     "data": {
      "text/html": [
       "<div>\n",
       "<style scoped>\n",
       "    .dataframe tbody tr th:only-of-type {\n",
       "        vertical-align: middle;\n",
       "    }\n",
       "\n",
       "    .dataframe tbody tr th {\n",
       "        vertical-align: top;\n",
       "    }\n",
       "\n",
       "    .dataframe thead th {\n",
       "        text-align: right;\n",
       "    }\n",
       "</style>\n",
       "<table border=\"1\" class=\"dataframe\">\n",
       "  <thead>\n",
       "    <tr style=\"text-align: right;\">\n",
       "      <th></th>\n",
       "      <th>movieId</th>\n",
       "      <th>count</th>\n",
       "    </tr>\n",
       "  </thead>\n",
       "  <tbody>\n",
       "    <tr>\n",
       "      <th>314</th>\n",
       "      <td>356</td>\n",
       "      <td>329</td>\n",
       "    </tr>\n",
       "  </tbody>\n",
       "</table>\n",
       "</div>"
      ],
      "text/plain": [
       "     movieId  count\n",
       "314      356    329"
      ]
     },
     "execution_count": 36,
     "metadata": {},
     "output_type": "execute_result"
    }
   ],
   "source": [
    "mix_rated_movie"
   ]
  },
  {
   "cell_type": "code",
   "execution_count": 38,
   "id": "07703ff6",
   "metadata": {},
   "outputs": [
    {
     "data": {
      "text/plain": [
       "'Forrest Gump (1994)'"
      ]
     },
     "execution_count": 38,
     "metadata": {},
     "output_type": "execute_result"
    }
   ],
   "source": [
    "movie_356=merge_df[merge_df['movieId']==356]['title'].iloc[0]\n",
    "movie_356"
   ]
  },
  {
   "cell_type": "code",
   "execution_count": 41,
   "id": "6a37fc14",
   "metadata": {},
   "outputs": [],
   "source": [
    "merge_df1=pd.merge(df1,df2, on='movieId')\n",
    "matrix_tags=merge_df1[merge_df1['title']=='Matrix, The (1999)']"
   ]
  },
  {
   "cell_type": "code",
   "execution_count": 42,
   "id": "821fb70d",
   "metadata": {},
   "outputs": [
    {
     "data": {
      "text/plain": [
       "1313          martial arts\n",
       "1314                sci-fi\n",
       "1315    alternate universe\n",
       "1316            philosophy\n",
       "1317      post apocalyptic\n",
       "Name: tag, dtype: object"
      ]
     },
     "execution_count": 42,
     "metadata": {},
     "output_type": "execute_result"
    }
   ],
   "source": [
    "matrix_tags['tag']"
   ]
  },
  {
   "cell_type": "code",
   "execution_count": 48,
   "id": "bae16fca",
   "metadata": {},
   "outputs": [],
   "source": [
    "avg_rating=(\n",
    "    pd.merge(df,df1,on='movieId')\n",
    "    .query('title == \"Terminator 2: Judgment Day (1991)\"')\n",
    "    ['rating']\n",
    "    .mean())"
   ]
  },
  {
   "cell_type": "code",
   "execution_count": 49,
   "id": "5d078988",
   "metadata": {},
   "outputs": [
    {
     "data": {
      "text/plain": [
       "3.970982142857143"
      ]
     },
     "execution_count": 49,
     "metadata": {},
     "output_type": "execute_result"
    }
   ],
   "source": [
    "avg_rating"
   ]
  },
  {
   "cell_type": "code",
   "execution_count": 50,
   "id": "6865fc31",
   "metadata": {},
   "outputs": [],
   "source": [
    "import matplotlib.pyplot as plt"
   ]
  },
  {
   "cell_type": "code",
   "execution_count": 51,
   "id": "5a6e90fa",
   "metadata": {},
   "outputs": [
    {
     "data": {
      "text/html": [
       "<div>\n",
       "<style scoped>\n",
       "    .dataframe tbody tr th:only-of-type {\n",
       "        vertical-align: middle;\n",
       "    }\n",
       "\n",
       "    .dataframe tbody tr th {\n",
       "        vertical-align: top;\n",
       "    }\n",
       "\n",
       "    .dataframe thead th {\n",
       "        text-align: right;\n",
       "    }\n",
       "</style>\n",
       "<table border=\"1\" class=\"dataframe\">\n",
       "  <thead>\n",
       "    <tr style=\"text-align: right;\">\n",
       "      <th></th>\n",
       "      <th>userId</th>\n",
       "      <th>movieId</th>\n",
       "      <th>rating</th>\n",
       "      <th>timestamp</th>\n",
       "      <th>title</th>\n",
       "      <th>genres</th>\n",
       "    </tr>\n",
       "  </thead>\n",
       "  <tbody>\n",
       "    <tr>\n",
       "      <th>0</th>\n",
       "      <td>1</td>\n",
       "      <td>1</td>\n",
       "      <td>4.0</td>\n",
       "      <td>964982703</td>\n",
       "      <td>Toy Story (1995)</td>\n",
       "      <td>Adventure|Animation|Children|Comedy|Fantasy</td>\n",
       "    </tr>\n",
       "    <tr>\n",
       "      <th>1</th>\n",
       "      <td>5</td>\n",
       "      <td>1</td>\n",
       "      <td>4.0</td>\n",
       "      <td>847434962</td>\n",
       "      <td>Toy Story (1995)</td>\n",
       "      <td>Adventure|Animation|Children|Comedy|Fantasy</td>\n",
       "    </tr>\n",
       "    <tr>\n",
       "      <th>2</th>\n",
       "      <td>7</td>\n",
       "      <td>1</td>\n",
       "      <td>4.5</td>\n",
       "      <td>1106635946</td>\n",
       "      <td>Toy Story (1995)</td>\n",
       "      <td>Adventure|Animation|Children|Comedy|Fantasy</td>\n",
       "    </tr>\n",
       "    <tr>\n",
       "      <th>3</th>\n",
       "      <td>15</td>\n",
       "      <td>1</td>\n",
       "      <td>2.5</td>\n",
       "      <td>1510577970</td>\n",
       "      <td>Toy Story (1995)</td>\n",
       "      <td>Adventure|Animation|Children|Comedy|Fantasy</td>\n",
       "    </tr>\n",
       "    <tr>\n",
       "      <th>4</th>\n",
       "      <td>17</td>\n",
       "      <td>1</td>\n",
       "      <td>4.5</td>\n",
       "      <td>1305696483</td>\n",
       "      <td>Toy Story (1995)</td>\n",
       "      <td>Adventure|Animation|Children|Comedy|Fantasy</td>\n",
       "    </tr>\n",
       "    <tr>\n",
       "      <th>...</th>\n",
       "      <td>...</td>\n",
       "      <td>...</td>\n",
       "      <td>...</td>\n",
       "      <td>...</td>\n",
       "      <td>...</td>\n",
       "      <td>...</td>\n",
       "    </tr>\n",
       "    <tr>\n",
       "      <th>100831</th>\n",
       "      <td>610</td>\n",
       "      <td>160341</td>\n",
       "      <td>2.5</td>\n",
       "      <td>1479545749</td>\n",
       "      <td>Bloodmoon (1997)</td>\n",
       "      <td>Action|Thriller</td>\n",
       "    </tr>\n",
       "    <tr>\n",
       "      <th>100832</th>\n",
       "      <td>610</td>\n",
       "      <td>160527</td>\n",
       "      <td>4.5</td>\n",
       "      <td>1479544998</td>\n",
       "      <td>Sympathy for the Underdog (1971)</td>\n",
       "      <td>Action|Crime|Drama</td>\n",
       "    </tr>\n",
       "    <tr>\n",
       "      <th>100833</th>\n",
       "      <td>610</td>\n",
       "      <td>160836</td>\n",
       "      <td>3.0</td>\n",
       "      <td>1493844794</td>\n",
       "      <td>Hazard (2005)</td>\n",
       "      <td>Action|Drama|Thriller</td>\n",
       "    </tr>\n",
       "    <tr>\n",
       "      <th>100834</th>\n",
       "      <td>610</td>\n",
       "      <td>163937</td>\n",
       "      <td>3.5</td>\n",
       "      <td>1493848789</td>\n",
       "      <td>Blair Witch (2016)</td>\n",
       "      <td>Horror|Thriller</td>\n",
       "    </tr>\n",
       "    <tr>\n",
       "      <th>100835</th>\n",
       "      <td>610</td>\n",
       "      <td>163981</td>\n",
       "      <td>3.5</td>\n",
       "      <td>1493850155</td>\n",
       "      <td>31 (2016)</td>\n",
       "      <td>Horror</td>\n",
       "    </tr>\n",
       "  </tbody>\n",
       "</table>\n",
       "<p>100836 rows × 6 columns</p>\n",
       "</div>"
      ],
      "text/plain": [
       "        userId  movieId  rating   timestamp                             title  \\\n",
       "0            1        1     4.0   964982703                  Toy Story (1995)   \n",
       "1            5        1     4.0   847434962                  Toy Story (1995)   \n",
       "2            7        1     4.5  1106635946                  Toy Story (1995)   \n",
       "3           15        1     2.5  1510577970                  Toy Story (1995)   \n",
       "4           17        1     4.5  1305696483                  Toy Story (1995)   \n",
       "...        ...      ...     ...         ...                               ...   \n",
       "100831     610   160341     2.5  1479545749                  Bloodmoon (1997)   \n",
       "100832     610   160527     4.5  1479544998  Sympathy for the Underdog (1971)   \n",
       "100833     610   160836     3.0  1493844794                     Hazard (2005)   \n",
       "100834     610   163937     3.5  1493848789                Blair Witch (2016)   \n",
       "100835     610   163981     3.5  1493850155                         31 (2016)   \n",
       "\n",
       "                                             genres  \n",
       "0       Adventure|Animation|Children|Comedy|Fantasy  \n",
       "1       Adventure|Animation|Children|Comedy|Fantasy  \n",
       "2       Adventure|Animation|Children|Comedy|Fantasy  \n",
       "3       Adventure|Animation|Children|Comedy|Fantasy  \n",
       "4       Adventure|Animation|Children|Comedy|Fantasy  \n",
       "...                                             ...  \n",
       "100831                              Action|Thriller  \n",
       "100832                           Action|Crime|Drama  \n",
       "100833                        Action|Drama|Thriller  \n",
       "100834                              Horror|Thriller  \n",
       "100835                                       Horror  \n",
       "\n",
       "[100836 rows x 6 columns]"
      ]
     },
     "execution_count": 51,
     "metadata": {},
     "output_type": "execute_result"
    }
   ],
   "source": [
    "merge_df"
   ]
  },
  {
   "cell_type": "code",
   "execution_count": 57,
   "id": "c0ea6e16",
   "metadata": {},
   "outputs": [
    {
     "data": {
      "text/plain": [
       "(array([ 3.,  0.,  1.,  5.,  3., 10., 17., 49., 49., 81.]),\n",
       " array([0.5 , 0.95, 1.4 , 1.85, 2.3 , 2.75, 3.2 , 3.65, 4.1 , 4.55, 5.  ]),\n",
       " <BarContainer object of 10 artists>)"
      ]
     },
     "execution_count": 57,
     "metadata": {},
     "output_type": "execute_result"
    },
    {
     "data": {
      "image/png": "[encoded data removed]",
      "text/plain": [
       "<Figure size 640x480 with 1 Axes>"
      ]
     },
     "metadata": {},
     "output_type": "display_data"
    }
   ],
   "source": [
    "movie_Fightclub=merge_df[merge_df['title']== \"Fight Club (1999)\"]\n",
    "plt.hist(movie_Fightclub['rating'],bins=10,edgecolor='black')"
   ]
  },
  {
   "cell_type": "code",
   "execution_count": 54,
   "id": "5296e6ce",
   "metadata": {},
   "outputs": [
    {
     "data": {
      "text/html": [
       "<div>\n",
       "<style scoped>\n",
       "    .dataframe tbody tr th:only-of-type {\n",
       "        vertical-align: middle;\n",
       "    }\n",
       "\n",
       "    .dataframe tbody tr th {\n",
       "        vertical-align: top;\n",
       "    }\n",
       "\n",
       "    .dataframe thead th {\n",
       "        text-align: right;\n",
       "    }\n",
       "</style>\n",
       "<table border=\"1\" class=\"dataframe\">\n",
       "  <thead>\n",
       "    <tr style=\"text-align: right;\">\n",
       "      <th></th>\n",
       "      <th>userId</th>\n",
       "      <th>movieId</th>\n",
       "      <th>rating</th>\n",
       "      <th>timestamp</th>\n",
       "      <th>title</th>\n",
       "      <th>genres</th>\n",
       "    </tr>\n",
       "  </thead>\n",
       "  <tbody>\n",
       "    <tr>\n",
       "      <th>14323</th>\n",
       "      <td>1</td>\n",
       "      <td>2959</td>\n",
       "      <td>5.0</td>\n",
       "      <td>964983282</td>\n",
       "      <td>Fight Club (1999)</td>\n",
       "      <td>Action|Crime|Drama|Thriller</td>\n",
       "    </tr>\n",
       "    <tr>\n",
       "      <th>14324</th>\n",
       "      <td>4</td>\n",
       "      <td>2959</td>\n",
       "      <td>2.0</td>\n",
       "      <td>945078528</td>\n",
       "      <td>Fight Club (1999)</td>\n",
       "      <td>Action|Crime|Drama|Thriller</td>\n",
       "    </tr>\n",
       "    <tr>\n",
       "      <th>14325</th>\n",
       "      <td>10</td>\n",
       "      <td>2959</td>\n",
       "      <td>0.5</td>\n",
       "      <td>1455356582</td>\n",
       "      <td>Fight Club (1999)</td>\n",
       "      <td>Action|Crime|Drama|Thriller</td>\n",
       "    </tr>\n",
       "    <tr>\n",
       "      <th>14326</th>\n",
       "      <td>15</td>\n",
       "      <td>2959</td>\n",
       "      <td>2.5</td>\n",
       "      <td>1510571747</td>\n",
       "      <td>Fight Club (1999)</td>\n",
       "      <td>Action|Crime|Drama|Thriller</td>\n",
       "    </tr>\n",
       "    <tr>\n",
       "      <th>14327</th>\n",
       "      <td>16</td>\n",
       "      <td>2959</td>\n",
       "      <td>3.5</td>\n",
       "      <td>1377476874</td>\n",
       "      <td>Fight Club (1999)</td>\n",
       "      <td>Action|Crime|Drama|Thriller</td>\n",
       "    </tr>\n",
       "    <tr>\n",
       "      <th>...</th>\n",
       "      <td>...</td>\n",
       "      <td>...</td>\n",
       "      <td>...</td>\n",
       "      <td>...</td>\n",
       "      <td>...</td>\n",
       "      <td>...</td>\n",
       "    </tr>\n",
       "    <tr>\n",
       "      <th>14536</th>\n",
       "      <td>601</td>\n",
       "      <td>2959</td>\n",
       "      <td>5.0</td>\n",
       "      <td>1441639461</td>\n",
       "      <td>Fight Club (1999)</td>\n",
       "      <td>Action|Crime|Drama|Thriller</td>\n",
       "    </tr>\n",
       "    <tr>\n",
       "      <th>14537</th>\n",
       "      <td>603</td>\n",
       "      <td>2959</td>\n",
       "      <td>4.0</td>\n",
       "      <td>963176105</td>\n",
       "      <td>Fight Club (1999)</td>\n",
       "      <td>Action|Crime|Drama|Thriller</td>\n",
       "    </tr>\n",
       "    <tr>\n",
       "      <th>14538</th>\n",
       "      <td>606</td>\n",
       "      <td>2959</td>\n",
       "      <td>5.0</td>\n",
       "      <td>1171231517</td>\n",
       "      <td>Fight Club (1999)</td>\n",
       "      <td>Action|Crime|Drama|Thriller</td>\n",
       "    </tr>\n",
       "    <tr>\n",
       "      <th>14539</th>\n",
       "      <td>608</td>\n",
       "      <td>2959</td>\n",
       "      <td>5.0</td>\n",
       "      <td>1117336631</td>\n",
       "      <td>Fight Club (1999)</td>\n",
       "      <td>Action|Crime|Drama|Thriller</td>\n",
       "    </tr>\n",
       "    <tr>\n",
       "      <th>14540</th>\n",
       "      <td>610</td>\n",
       "      <td>2959</td>\n",
       "      <td>5.0</td>\n",
       "      <td>1479541966</td>\n",
       "      <td>Fight Club (1999)</td>\n",
       "      <td>Action|Crime|Drama|Thriller</td>\n",
       "    </tr>\n",
       "  </tbody>\n",
       "</table>\n",
       "<p>218 rows × 6 columns</p>\n",
       "</div>"
      ],
      "text/plain": [
       "       userId  movieId  rating   timestamp              title  \\\n",
       "14323       1     2959     5.0   964983282  Fight Club (1999)   \n",
       "14324       4     2959     2.0   945078528  Fight Club (1999)   \n",
       "14325      10     2959     0.5  1455356582  Fight Club (1999)   \n",
       "14326      15     2959     2.5  1510571747  Fight Club (1999)   \n",
       "14327      16     2959     3.5  1377476874  Fight Club (1999)   \n",
       "...       ...      ...     ...         ...                ...   \n",
       "14536     601     2959     5.0  1441639461  Fight Club (1999)   \n",
       "14537     603     2959     4.0   963176105  Fight Club (1999)   \n",
       "14538     606     2959     5.0  1171231517  Fight Club (1999)   \n",
       "14539     608     2959     5.0  1117336631  Fight Club (1999)   \n",
       "14540     610     2959     5.0  1479541966  Fight Club (1999)   \n",
       "\n",
       "                            genres  \n",
       "14323  Action|Crime|Drama|Thriller  \n",
       "14324  Action|Crime|Drama|Thriller  \n",
       "14325  Action|Crime|Drama|Thriller  \n",
       "14326  Action|Crime|Drama|Thriller  \n",
       "14327  Action|Crime|Drama|Thriller  \n",
       "...                            ...  \n",
       "14536  Action|Crime|Drama|Thriller  \n",
       "14537  Action|Crime|Drama|Thriller  \n",
       "14538  Action|Crime|Drama|Thriller  \n",
       "14539  Action|Crime|Drama|Thriller  \n",
       "14540  Action|Crime|Drama|Thriller  \n",
       "\n",
       "[218 rows x 6 columns]"
      ]
     },
     "execution_count": 54,
     "metadata": {},
     "output_type": "execute_result"
    }
   ],
   "source": [
    "movie_Fightclub"
   ]
  },
  {
   "cell_type": "code",
   "execution_count": 59,
   "id": "985b1f62",
   "metadata": {},
   "outputs": [
    {
     "data": {
      "text/plain": [
       "'Shawshank Redemption, The (1994)'"
      ]
     },
     "execution_count": 59,
     "metadata": {},
     "output_type": "execute_result"
    }
   ],
   "source": [
    "merge_df2=(pd.merge(df1,df.groupby('movieId')['rating'].agg(['count','mean'])\n",
    "                    .reset_index(),on='movieId',how='inner'))\n",
    "df5=merge_df2.query('count>50')\n",
    "pop_movie=df5.nlargest(1,'mean').iloc[0]['title']\n",
    "pop_movie"
   ]
  },
  {
   "cell_type": "code",
   "execution_count": 61,
   "id": "80426d32",
   "metadata": {},
   "outputs": [
    {
     "data": {
      "text/html": [
       "<div>\n",
       "<style scoped>\n",
       "    .dataframe tbody tr th:only-of-type {\n",
       "        vertical-align: middle;\n",
       "    }\n",
       "\n",
       "    .dataframe tbody tr th {\n",
       "        vertical-align: top;\n",
       "    }\n",
       "\n",
       "    .dataframe thead th {\n",
       "        text-align: right;\n",
       "    }\n",
       "</style>\n",
       "<table border=\"1\" class=\"dataframe\">\n",
       "  <thead>\n",
       "    <tr style=\"text-align: right;\">\n",
       "      <th></th>\n",
       "      <th>title</th>\n",
       "      <th>count</th>\n",
       "    </tr>\n",
       "  </thead>\n",
       "  <tbody>\n",
       "    <tr>\n",
       "      <th>314</th>\n",
       "      <td>Forrest Gump (1994)</td>\n",
       "      <td>329</td>\n",
       "    </tr>\n",
       "    <tr>\n",
       "      <th>277</th>\n",
       "      <td>Shawshank Redemption, The (1994)</td>\n",
       "      <td>317</td>\n",
       "    </tr>\n",
       "    <tr>\n",
       "      <th>257</th>\n",
       "      <td>Pulp Fiction (1994)</td>\n",
       "      <td>307</td>\n",
       "    </tr>\n",
       "    <tr>\n",
       "      <th>510</th>\n",
       "      <td>Silence of the Lambs, The (1991)</td>\n",
       "      <td>279</td>\n",
       "    </tr>\n",
       "    <tr>\n",
       "      <th>1938</th>\n",
       "      <td>Matrix, The (1999)</td>\n",
       "      <td>278</td>\n",
       "    </tr>\n",
       "  </tbody>\n",
       "</table>\n",
       "</div>"
      ],
      "text/plain": [
       "                                 title  count\n",
       "314                Forrest Gump (1994)    329\n",
       "277   Shawshank Redemption, The (1994)    317\n",
       "257                Pulp Fiction (1994)    307\n",
       "510   Silence of the Lambs, The (1991)    279\n",
       "1938                Matrix, The (1999)    278"
      ]
     },
     "execution_count": 61,
     "metadata": {},
     "output_type": "execute_result"
    }
   ],
   "source": [
    "top5_movies=df5.sort_values(by='count',ascending=False).head(5)\n",
    "top5_movies[['title','count']]"
   ]
  },
  {
   "cell_type": "code",
   "execution_count": 64,
   "id": "d77036cd",
   "metadata": {},
   "outputs": [
    {
     "data": {
      "text/html": [
       "<div>\n",
       "<style scoped>\n",
       "    .dataframe tbody tr th:only-of-type {\n",
       "        vertical-align: middle;\n",
       "    }\n",
       "\n",
       "    .dataframe tbody tr th {\n",
       "        vertical-align: top;\n",
       "    }\n",
       "\n",
       "    .dataframe thead th {\n",
       "        text-align: right;\n",
       "    }\n",
       "</style>\n",
       "<table border=\"1\" class=\"dataframe\">\n",
       "  <thead>\n",
       "    <tr style=\"text-align: right;\">\n",
       "      <th></th>\n",
       "      <th>movieId</th>\n",
       "      <th>title</th>\n",
       "      <th>genres</th>\n",
       "      <th>count</th>\n",
       "      <th>mean</th>\n",
       "    </tr>\n",
       "  </thead>\n",
       "  <tbody>\n",
       "    <tr>\n",
       "      <th>0</th>\n",
       "      <td>1</td>\n",
       "      <td>Toy Story (1995)</td>\n",
       "      <td>Adventure|Animation|Children|Comedy|Fantasy</td>\n",
       "      <td>215</td>\n",
       "      <td>3.920930</td>\n",
       "    </tr>\n",
       "    <tr>\n",
       "      <th>1</th>\n",
       "      <td>2</td>\n",
       "      <td>Jumanji (1995)</td>\n",
       "      <td>Adventure|Children|Fantasy</td>\n",
       "      <td>110</td>\n",
       "      <td>3.431818</td>\n",
       "    </tr>\n",
       "    <tr>\n",
       "      <th>2</th>\n",
       "      <td>3</td>\n",
       "      <td>Grumpier Old Men (1995)</td>\n",
       "      <td>Comedy|Romance</td>\n",
       "      <td>52</td>\n",
       "      <td>3.259615</td>\n",
       "    </tr>\n",
       "    <tr>\n",
       "      <th>5</th>\n",
       "      <td>6</td>\n",
       "      <td>Heat (1995)</td>\n",
       "      <td>Action|Crime|Thriller</td>\n",
       "      <td>102</td>\n",
       "      <td>3.946078</td>\n",
       "    </tr>\n",
       "    <tr>\n",
       "      <th>6</th>\n",
       "      <td>7</td>\n",
       "      <td>Sabrina (1995)</td>\n",
       "      <td>Comedy|Romance</td>\n",
       "      <td>54</td>\n",
       "      <td>3.185185</td>\n",
       "    </tr>\n",
       "    <tr>\n",
       "      <th>...</th>\n",
       "      <td>...</td>\n",
       "      <td>...</td>\n",
       "      <td>...</td>\n",
       "      <td>...</td>\n",
       "      <td>...</td>\n",
       "    </tr>\n",
       "    <tr>\n",
       "      <th>8287</th>\n",
       "      <td>106782</td>\n",
       "      <td>Wolf of Wall Street, The (2013)</td>\n",
       "      <td>Comedy|Crime|Drama</td>\n",
       "      <td>54</td>\n",
       "      <td>3.916667</td>\n",
       "    </tr>\n",
       "    <tr>\n",
       "      <th>8354</th>\n",
       "      <td>109374</td>\n",
       "      <td>Grand Budapest Hotel, The (2014)</td>\n",
       "      <td>Comedy|Drama</td>\n",
       "      <td>52</td>\n",
       "      <td>3.778846</td>\n",
       "    </tr>\n",
       "    <tr>\n",
       "      <th>8358</th>\n",
       "      <td>109487</td>\n",
       "      <td>Interstellar (2014)</td>\n",
       "      <td>Sci-Fi|IMAX</td>\n",
       "      <td>73</td>\n",
       "      <td>3.993151</td>\n",
       "    </tr>\n",
       "    <tr>\n",
       "      <th>8457</th>\n",
       "      <td>112852</td>\n",
       "      <td>Guardians of the Galaxy (2014)</td>\n",
       "      <td>Action|Adventure|Sci-Fi</td>\n",
       "      <td>59</td>\n",
       "      <td>4.050847</td>\n",
       "    </tr>\n",
       "    <tr>\n",
       "      <th>8673</th>\n",
       "      <td>122904</td>\n",
       "      <td>Deadpool (2016)</td>\n",
       "      <td>Action|Adventure|Comedy|Sci-Fi</td>\n",
       "      <td>54</td>\n",
       "      <td>3.833333</td>\n",
       "    </tr>\n",
       "  </tbody>\n",
       "</table>\n",
       "<p>436 rows × 5 columns</p>\n",
       "</div>"
      ],
      "text/plain": [
       "      movieId                             title  \\\n",
       "0           1                  Toy Story (1995)   \n",
       "1           2                    Jumanji (1995)   \n",
       "2           3           Grumpier Old Men (1995)   \n",
       "5           6                       Heat (1995)   \n",
       "6           7                    Sabrina (1995)   \n",
       "...       ...                               ...   \n",
       "8287   106782   Wolf of Wall Street, The (2013)   \n",
       "8354   109374  Grand Budapest Hotel, The (2014)   \n",
       "8358   109487               Interstellar (2014)   \n",
       "8457   112852    Guardians of the Galaxy (2014)   \n",
       "8673   122904                   Deadpool (2016)   \n",
       "\n",
       "                                           genres  count      mean  \n",
       "0     Adventure|Animation|Children|Comedy|Fantasy    215  3.920930  \n",
       "1                      Adventure|Children|Fantasy    110  3.431818  \n",
       "2                                  Comedy|Romance     52  3.259615  \n",
       "5                           Action|Crime|Thriller    102  3.946078  \n",
       "6                                  Comedy|Romance     54  3.185185  \n",
       "...                                           ...    ...       ...  \n",
       "8287                           Comedy|Crime|Drama     54  3.916667  \n",
       "8354                                 Comedy|Drama     52  3.778846  \n",
       "8358                                  Sci-Fi|IMAX     73  3.993151  \n",
       "8457                      Action|Adventure|Sci-Fi     59  4.050847  \n",
       "8673               Action|Adventure|Comedy|Sci-Fi     54  3.833333  \n",
       "\n",
       "[436 rows x 5 columns]"
      ]
     },
     "execution_count": 64,
     "metadata": {},
     "output_type": "execute_result"
    }
   ],
   "source": [
    "df5"
   ]
  },
  {
   "cell_type": "code",
   "execution_count": 66,
   "id": "713b7de3",
   "metadata": {},
   "outputs": [],
   "source": [
    "merge_df2=(pd.merge(df1,df.groupby('movieId')['rating'].agg(['count','mean'])\n",
    "                    .reset_index(),on='movieId',how='inner'))\n",
    "df5=merge_df2.query('count>50')\n",
    "\n",
    "third_pop_sci_fi=(df5[df5['genres'].str.contains('Sci-Fi')]\n",
    "                 .nlargest(3,'count').iloc[-1]['title'])\n"
   ]
  },
  {
   "cell_type": "code",
   "execution_count": 67,
   "id": "b73ca261",
   "metadata": {},
   "outputs": [
    {
     "data": {
      "text/plain": [
       "'Jurassic Park (1993)'"
      ]
     },
     "execution_count": 67,
     "metadata": {},
     "output_type": "execute_result"
    }
   ],
   "source": [
    "third_pop_sci_fi"
   ]
  },
  {
   "cell_type": "code",
   "execution_count": 69,
   "id": "251f270a",
   "metadata": {},
   "outputs": [],
   "source": [
    "df6=pd.merge(df5,df3,on='movieId')\n",
    "highest_IMDB=df6[df6['imdbId']==df6['imdbId'].max()]"
   ]
  },
  {
   "cell_type": "code",
   "execution_count": 70,
   "id": "662f9a18",
   "metadata": {},
   "outputs": [
    {
     "data": {
      "text/plain": [
       "109374"
      ]
     },
     "execution_count": 70,
     "metadata": {},
     "output_type": "execute_result"
    }
   ],
   "source": [
    "highest_Imdb_movie_id=highest_IMDB['movieId'].iloc[0]\n",
    "highest_Imdb_movie_id"
   ]
  },
  {
   "cell_type": "code",
   "execution_count": 73,
   "id": "b872016d",
   "metadata": {},
   "outputs": [],
   "source": [
    "highest_imdb_sci_fi=(df5[df5['genres'].str.contains('Sci-Fi')]\n",
    "                     .merge(df6,on='movieId',how='inner')\n",
    "                     .nlargest(1,'imdbId')['movieId']\n",
    "                     .iloc[0])"
   ]
  },
  {
   "cell_type": "code",
   "execution_count": 74,
   "id": "ec3f5c03",
   "metadata": {},
   "outputs": [
    {
     "data": {
      "text/plain": [
       "112852"
      ]
     },
     "execution_count": 74,
     "metadata": {},
     "output_type": "execute_result"
    }
   ],
   "source": [
    "highest_imdb_sci_fi"
   ]
  }
 ],
 "metadata": {
  "kernelspec": {
   "display_name": "Python 3 (ipykernel)",
   "language": "python",
   "name": "python3"
  },
  "language_info": {
   "codemirror_mode": {
    "name": "ipython",
    "version": 3
   },
   "file_extension": ".py",
   "mimetype": "text/x-python",
   "name": "python",
   "nbconvert_exporter": "python",
   "pygments_lexer": "ipython3",
   "version": "3.11.5"
  }
 },
 "nbformat": 4,
 "nbformat_minor": 5
}
